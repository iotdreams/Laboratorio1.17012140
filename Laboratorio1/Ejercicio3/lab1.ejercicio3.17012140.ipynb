{
 "cells": [
  {
   "cell_type": "markdown",
   "metadata": {},
   "source": [
    "## Erick J. Pineda Amézquita  --------- Carnet: 17012140\n",
    "### Text Mining\n",
    "#### Laboratorio #1\n",
    "\n",
    "##### Problema 3:\n",
    "Cree una funcion que dada una imagen cree una escala de grises en tres dimensiones, tome en\n",
    "cuenta que su funcion debe crear 3 imagenes como salida. \n",
    "\n",
    "Para entregar este ejercicio debe incluir\n",
    "una las imagenes que haya utilizado como prueba y el resultado de las misma, no puede utilizar la\n",
    "imagen del Problema #2."
   ]
  },
  {
   "cell_type": "code",
   "execution_count": 1,
   "metadata": {},
   "outputs": [],
   "source": [
    "import cv2\n",
    "import numpy as np\n",
    "import sys\n",
    "\n",
    "### La imagen default se tomara la que tiene nombre epineda.jpg\n",
    "def graficarImagen(nombreImagen=\"epineda.jpg\"):\n",
    "    \n",
    "    img = cv2.imread(nombreImagen)\n",
    "\n",
    "    # Extraccion de parametros del objeto imagen    \n",
    "    alto = img.shape[0]\n",
    "    ancho = img.shape[1]\n",
    "    canales = img.shape[2]\n",
    "\n",
    "    \n",
    "    print(\"Impresion de parametros tomados de la imagen original: \" + nombreImagen)\n",
    "    print(\"Alto: \" + str(alto))\n",
    "    print(\"Ancho: \" + str(ancho))\n",
    "    print(\"Canales: \" + str(canales))\n",
    "    \n",
    "    pixel = img[0, 0]\n",
    "    print(\"Valores azul, verde y rojo del primer pixel de la imagen\" + str(pixel))\n",
    "\n",
    "    ## Se manda a llamar la funcion que selecciona el color\n",
    "    \n",
    "    colorear(img,alto, ancho)\n",
    "\n",
    "    "
   ]
  },
  {
   "cell_type": "markdown",
   "metadata": {},
   "source": [
    "#### Observación: \n",
    "Tomar en cuenta que el siguiente codigo no muestra las imagenes en pantalla, pero si las genera en el directorio donde se encuentra guardado el codigo. Genera las imagenes en gris"
   ]
  },
  {
   "cell_type": "code",
   "execution_count": 11,
   "metadata": {},
   "outputs": [],
   "source": [
    "## Definicion de la funcion que colorea y grafica en base a parámetros.\n",
    "def colorear(img, alto, ancho):\n",
    "    \n",
    "    imagenColoreada = np.zeros((alto, ancho, 3))\n",
    "    imagenGris = np.zeros((alto, ancho, 1))\n",
    "    \n",
    "    #Se reutiliza el codigo de la seccion 1, en este caso, un for con 1, 2 y 3.\n",
    "    \n",
    "    for color in [1,2,3]:\n",
    "        nombreNuevaImagen= \"NuevaImagen.\" + str(color)+ \".jpg\"\n",
    "        nombreNuevaImagenEnGris= \"Gris.\" + str(color)+ \".jpg\"\n",
    "        \n",
    "        for i in range(alto):\n",
    "            for j in range(ancho):\n",
    "                pixel = img[i, j]\n",
    "                azul = pixel[0]\n",
    "                verde = pixel[1]\n",
    "                rojo = pixel[2]\n",
    "\n",
    "          #rojo, verde, azul    \n",
    "                if color == 1:\n",
    "                    imagenColoreada[i, j] = [azul, 0, 0]\n",
    "                elif color == 2:\n",
    "                    imagenColoreada[i, j] = [0, verde, 0]\n",
    "                elif color == 3:\n",
    "                    imagenColoreada[i, j] = [0, 0, rojo]\n",
    "                elif color == 10:\n",
    "                    imagenColoreada[i, j] = [0, verde, rojo]\n",
    "                elif color == 20:\n",
    "                    imagenColoreada[i, j] = [azul, verde, 0]\n",
    "                elif color == 30:\n",
    "                    imagenColoreada[i, j] = [azul, 0, rojo]\n",
    "\n",
    "                pixelGris = imagenColoreada[i, j]\n",
    "                grisAritmetico = int((int(pixelGris[0]) + int(pixelGris[1]) + int(pixelGris[2]))/3)\n",
    "                imagenGris[i, j] = grisAritmetico\n",
    "\n",
    "        ## Las siguientes 2 lineas solamente se utilizan para no cambiar el nombre de las variables\n",
    "        ## los cuales se utilizaron en el ejercicio1.\n",
    "        \n",
    "        nombreDeImagenGenerada=nombreNuevaImagen\n",
    "        nombreDeImagenGeneradaGris=nombreNuevaImagenEnGris\n",
    "\n",
    "        ## se escribe la imagen con el nombre en el parametro 1 y con el obejto del parámetro 2\n",
    "        cv2.imwrite(nombreDeImagenGenerada, imagenColoreada)\n",
    "        cv2.imwrite(nombreDeImagenGeneradaGris, imagenGris)\n",
    "\n",
    "        ## la imagen que se escribió a disco se carga en memoria\n",
    "        out = cv2.imread(nombreDeImagenGenerada)\n",
    "        gris = cv2.imread(nombreDeImagenGeneradaGris)\n",
    "\n",
    "        cv2.imshow('Titulo: Resultado de imagen coloreada segun seleccion', out)\n",
    "        cv2.imshow('Titulo: Resultado tonalidad gris', gris)\n",
    "\n",
    "        ## comandos para cerrar la ventana al momento de presionar alguna tecla\n",
    "    ## Observar que estas lineas se dejaron una identacion anterior, es decir, \n",
    "    ## al mismo nivel que el primer \"for\" que contiene las 3 itereaciones.\n",
    "    cv2.waitKey(0)\n",
    "    cv2.destroyAllWindows()\n",
    "    sys.exit()\n",
    "    \n",
    "        \n",
    "        \n",
    "        \n",
    "    "
   ]
  },
  {
   "cell_type": "code",
   "execution_count": 12,
   "metadata": {},
   "outputs": [
    {
     "name": "stdout",
     "output_type": "stream",
     "text": [
      "Impresion de parametros tomados de la imagen original: epineda.jpg\n",
      "Alto: 521\n",
      "Ancho: 695\n",
      "Canales: 3\n",
      "Valores azul, verde y rojo del primer pixel de la imagen[16 17 13]\n"
     ]
    },
    {
     "ename": "SystemExit",
     "evalue": "",
     "output_type": "error",
     "traceback": [
      "An exception has occurred, use %tb to see the full traceback.\n",
      "\u001b[1;31mSystemExit\u001b[0m\n"
     ]
    }
   ],
   "source": [
    "graficarImagen()"
   ]
  },
  {
   "cell_type": "markdown",
   "metadata": {},
   "source": []
  }
 ],
 "metadata": {
  "kernelspec": {
   "display_name": "Python 3",
   "language": "python",
   "name": "python3"
  },
  "language_info": {
   "codemirror_mode": {
    "name": "ipython",
    "version": 3
   },
   "file_extension": ".py",
   "mimetype": "text/x-python",
   "name": "python",
   "nbconvert_exporter": "python",
   "pygments_lexer": "ipython3",
   "version": "3.7.1"
  }
 },
 "nbformat": 4,
 "nbformat_minor": 2
}
