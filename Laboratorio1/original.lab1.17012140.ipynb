{
 "cells": [
  {
   "cell_type": "markdown",
   "metadata": {},
   "source": [
    "## Erick J. Pineda Amézquita  --------- Carnet: 17012140\n",
    "### Text Mining\n",
    "#### Laboratorio #1\n",
    "\n",
    "##### Problema 1:\n",
    "Desarrolle una funcion la cual reciba dos parametros, una imagen y un entero llamado color, la\n",
    "funcion debe devolver una imagen la cual tenga activos los canales de color segun los siguientes\n",
    "puntos:\n",
    "\n",
    "Si el parametro color vale 1, la imagen debe mostrar activos unicamente el color azul.\n",
    "\n",
    "Si el parametro color vale 2, la imagen debe mostrar activos unicamente el color verde.\n",
    "\n",
    "Si el parametro color vale 3, la imagen debe mostrar activos unicamente el color rojo.\n",
    "\n",
    "Si el parametro color vale 10, la imagen debe mostrar activos unicamente los colores rojo y\n",
    "verde.\n",
    "\n",
    "Si el parametro color vale 20, la imagen debe mostrar activos unicamente los colores verde y\n",
    "azul.\n",
    "\n",
    "Si el parametro color vale 30, la imagen debe mostrar activos unicamente los colores azul y\n",
    "rojo."
   ]
  },
  {
   "cell_type": "code",
   "execution_count": 37,
   "metadata": {},
   "outputs": [],
   "source": [
    "import cv2\n",
    "import numpy as np\n",
    "import sys\n",
    "\n",
    "def graficarImagen(nombreImagen=\"epineda.jpg\",colorImagen=1):\n",
    "    \n",
    "    img = cv2.imread(nombreImagen)\n",
    "    #cv2.imshow('Titulo: Imagen desde Python ', img)\n",
    "    \n",
    "    alto = img.shape[0]\n",
    "    ancho = img.shape[1]\n",
    "    canales = img.shape[2]\n",
    "\n",
    "    \n",
    "    print(\"Impresion de parametros tomados de la imagen original: \" + nombreImagen)\n",
    "    print(\"Alto: \" + str(alto))\n",
    "    print(\"Ancho: \" + str(ancho))\n",
    "    print(\"Canales: \" + str(canales))\n",
    "    \n",
    "    pixel = img[0, 0]\n",
    "    print(\"Valores azul, verde y rojo del primer pixel de la imagen\" + str(pixel))\n",
    "\n",
    "    ## Se manda a llamar la funcion que selecciona el color\n",
    "    \n",
    "    colorear(img,alto, ancho, colorImagen)\n",
    "    "
   ]
  },
  {
   "cell_type": "code",
   "execution_count": 29,
   "metadata": {},
   "outputs": [],
   "source": [
    "## Definicion de la funcion que colorea y grafica en base a parámetros.\n",
    "\n",
    "def colorear(img, alto, ancho, color ):\n",
    "    \n",
    "    imagenColoreada = np.zeros((alto, ancho, 3))\n",
    "    imagenGris = np.zeros((alto, ancho, 1))\n",
    "    \n",
    "    for i in range(alto):\n",
    "        for j in range(ancho):\n",
    "            pixel = img[i, j]\n",
    "            azul = pixel[0]\n",
    "            verde = pixel[1]\n",
    "            rojo = pixel[2]\n",
    "    \n",
    "      #rojo, verde, azul    \n",
    "            if color == 1:\n",
    "                imagenColoreada[i, j] = [azul, 0, 0]\n",
    "            elif color == 2:\n",
    "                imagenColoreada[i, j] = [0, verde, 0]\n",
    "            elif color == 3:\n",
    "                imagenColoreada[i, j] = [0, 0, rojo]\n",
    "            elif color == 10:\n",
    "                imagenColoreada[i, j] = [0, verde, rojo]\n",
    "            elif color == 20:\n",
    "                imagenColoreada[i, j] = [azul, verde, 0]\n",
    "            elif color == 30:\n",
    "                imagenColoreada[i, j] = [azul, 0, rojo]\n",
    "            \n",
    "            pixelGris = imagenColoreada[i, j]\n",
    "            grisAritmetico = int((int(pixelGris[0]) + int(pixelGris[1]) + int(pixelGris[2]))/3)\n",
    "            imagenGris[i, j] = grisAritmetico\n",
    "                \n",
    "    nombreDeImagenGenerada=\"nuevoColor.jpg\"\n",
    "    nombreDeImagenGeneradaGris=\"nuevoColorEnGris.jpg\"\n",
    "    \n",
    "    ## se escribe la imagen con el nombre en el parametro 1 y con el obejto del parámetro 2\n",
    "    cv2.imwrite(nombreDeImagenGenerada, imagenColoreada)\n",
    "    cv2.imwrite(nombreDeImagenGeneradaGris, imagenGris)\n",
    "    \n",
    "    \n",
    "    out = cv2.imread(nombreDeImagenGenerada)\n",
    "    gris = cv2.imread(nombreDeImagenGeneradaGris)\n",
    "    \n",
    "    cv2.imshow('Titulo: Resultado de imagen coloreada segun seleccion', out)\n",
    "    cv2.imshow('Titulo: Resultado tonalidad gris', gris)\n",
    "    \n",
    "    cv2.waitKey(0)\n",
    "    cv2.destroyAllWindows()\n",
    "    sys.exit()\n",
    "    \n",
    "        \n",
    "        \n",
    "        \n",
    "    "
   ]
  },
  {
   "cell_type": "code",
   "execution_count": 35,
   "metadata": {},
   "outputs": [
    {
     "name": "stdout",
     "output_type": "stream",
     "text": [
      "Alto: 521\n",
      "Ancho: 695\n",
      "Canales: 3\n",
      "pixel: [16 17 13]\n"
     ]
    },
    {
     "ename": "SystemExit",
     "evalue": "",
     "output_type": "error",
     "traceback": [
      "An exception has occurred, use %tb to see the full traceback.\n",
      "\u001b[1;31mSystemExit\u001b[0m\n"
     ]
    }
   ],
   "source": [
    "graficarImagen(colorImagen=3)"
   ]
  },
  {
   "cell_type": "markdown",
   "metadata": {},
   "source": []
  }
 ],
 "metadata": {
  "kernelspec": {
   "display_name": "Python 3",
   "language": "python",
   "name": "python3"
  },
  "language_info": {
   "codemirror_mode": {
    "name": "ipython",
    "version": 3
   },
   "file_extension": ".py",
   "mimetype": "text/x-python",
   "name": "python",
   "nbconvert_exporter": "python",
   "pygments_lexer": "ipython3",
   "version": "3.7.1"
  }
 },
 "nbformat": 4,
 "nbformat_minor": 2
}
